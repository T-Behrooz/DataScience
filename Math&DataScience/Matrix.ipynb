{
 "cells": [
  {
   "cell_type": "code",
   "execution_count": 41,
   "id": "6738c1f2-d1c6-4c89-a30d-8f584d9d4217",
   "metadata": {},
   "outputs": [
    {
     "name": "stdout",
     "output_type": "stream",
     "text": [
      "defined Matrix is :\n",
      " [[ 1  2  3]\n",
      " [ 4  5  6]\n",
      " [ 7  8  9]\n",
      " [10 11 12]]\n",
      "Dimention fo Matrix (Row * columon ): (4, 3)\n",
      "the Numbers of Rows of Matrix: 4\n",
      "len function returns the Numbers of elemnts of Matrix in array ([[1,2,3],[4,5,6],[7,8,9]]): 4\n",
      "First Row : [1 2 3]\n",
      "second Row : [4 5 6]\n",
      "3rd Row : [7 8 9]\n",
      "access to element(3,3) : 9  \n",
      " Notice : Index strats from Zero in Python \n"
     ]
    }
   ],
   "source": [
    "import numpy as np\n",
    "A=np.array([[1,2,3],[4,5,6],[7,8,9],[10,11,12]])\n",
    "print(\"defined Matrix is :\\n\",A)\n",
    "print(\"Dimention fo Matrix (Row * columon ):\", A.shape)\n",
    "print(\"the Numbers of Rows of Matrix:\", len(A))\n",
    "print(\"len function returns the Numbers of elemnts of Matrix in array ([[1,2,3],[4,5,6],[7,8,9]]):\", len(A))\n",
    "print(\"First Row :\",A[0])\n",
    "print(\"second Row :\",A[1])\n",
    "print(\"3rd Row :\",A[2])\n",
    "print(\"access to element(3,3) :\",A[2,2],\" \\n Notice : Index strats from Zero in Python \")"
   ]
  },
  {
   "cell_type": "code",
   "execution_count": 47,
   "id": "b1614b10-206d-4f93-92e5-d62b3db746b1",
   "metadata": {},
   "outputs": [
    {
     "name": "stdout",
     "output_type": "stream",
     "text": [
      "slice of Matrix [1:3]: [[4 5 6]\n",
      " [7 8 9]] \n",
      " it means 1 and 2 , in other words Row number 2 and 3 in general\n",
      "slice of Matrix [:3]: [[1 2 3]\n",
      " [4 5 6]\n",
      " [7 8 9]]\n",
      "slice of Matrix [1:]: [[ 4  5  6]\n",
      " [ 7  8  9]\n",
      " [10 11 12]]\n"
     ]
    }
   ],
   "source": [
    "print(\"slice of Matrix [1:3]:\",A[1:3],\"\\n it means 1 and 2 , in other words Row number 2 and 3 in general\")\n",
    "print(\"slice of Matrix [:3]:\",A[:3])\n",
    "print(\"slice of Matrix [1:]:\",A[1:])"
   ]
  },
  {
   "cell_type": "code",
   "execution_count": 67,
   "id": "870b7586-7f63-4e7a-bbb6-adcbe5587114",
   "metadata": {},
   "outputs": [
    {
     "name": "stdout",
     "output_type": "stream",
     "text": [
      "Transpos of Matrix A is :\n",
      " [[ 1  4  7 10]\n",
      " [ 2  5  8 11]\n",
      " [ 3  6  9 12]]\n",
      "first methode : Transpos of Matrix A is (np.transpose(A)) :\n",
      " [[ 1  4  7 10]\n",
      " [ 2  5  8 11]\n",
      " [ 3  6  9 12]] \n",
      " second one : this methode is accessible when matrix A created by np.array '''(A.T)'''\n"
     ]
    }
   ],
   "source": [
    "A_t=np.transpose(A)\n",
    "print(\"Transpos of Matrix A is :\\n\",A_t)\n",
    "\n",
    "print(\"first methode : Transpos of Matrix A is (np.transpose(A)) :\\n\",A.T,\n",
    "      \"\\n second one : this methode is accessible when matrix A created by np.array '''(A.T)'''\")"
   ]
  },
  {
   "cell_type": "code",
   "execution_count": 71,
   "id": "b837a47f-482c-4ce3-a2fb-20bbb5abf62d",
   "metadata": {},
   "outputs": [
    {
     "name": "stdout",
     "output_type": "stream",
     "text": [
      "defined Matrix with Row Vecotrs  is :\n",
      " [[ 1  6  3]\n",
      " [10  5  3]\n",
      " [ 1  4  7]\n",
      " [ 1  5  9]]\n",
      "defined Matrix with Col Vecotrs  is :\n",
      " [[ 1 10  1  1]\n",
      " [ 6  5  4  5]\n",
      " [ 3  3  7  9]]\n"
     ]
    }
   ],
   "source": [
    "v1=[1,6,3]\n",
    "v2=[10,5,3]\n",
    "v3=[1,4,7]\n",
    "v4=[1,5,9]\n",
    "B=np.array((v1,v2,v3,v4))\n",
    "print(\"defined Matrix with Row Vecotrs  is :\\n\",B)\n",
    "\n",
    "B=np.array((v1,v2,v3,v4))\n",
    "print(\"defined Matrix with Col Vecotrs  is :\\n\",B.T)"
   ]
  },
  {
   "cell_type": "code",
   "execution_count": 73,
   "id": "4052ddec-66d4-4400-b5ff-324f65387550",
   "metadata": {},
   "outputs": [
    {
     "name": "stdout",
     "output_type": "stream",
     "text": [
      "defined Matrix with Row Vecotrs  is :\n",
      " [[ 1  6  3]\n",
      " [10  5  3]\n",
      " [ 1  4  7]\n",
      " [ 1  5  9]]\n",
      "defined Matrix with Col Vecotrs  is :\n",
      " [[ 1 10  1  1]\n",
      " [ 6  5  4  5]\n",
      " [ 3  3  7  9]]\n"
     ]
    }
   ],
   "source": [
    "v1=[1,6,3]\n",
    "v2=[10,5,3]\n",
    "v3=[1,4,7]\n",
    "v4=[1,5,9]\n",
    "B=np.row_stack((v1,v2,v3,v4))\n",
    "print(\"defined Matrix with Row Vecotrs  is :\\n\",B)\n",
    "B=np.column_stack((v1,v2,v3,v4))\n",
    "print(\"defined Matrix with Col Vecotrs  is :\\n\",B)"
   ]
  },
  {
   "cell_type": "code",
   "execution_count": 91,
   "id": "e4edc0c3-071b-4b4d-a571-11674b957092",
   "metadata": {},
   "outputs": [
    {
     "name": "stdout",
     "output_type": "stream",
     "text": [
      "iris [head(10)] :\n",
      "      0    1    2    3\n",
      "0  5.1  3.5  1.4  0.2\n",
      "1  4.9  3.0  1.4  0.2\n",
      "2  4.7  3.2  1.3  0.2\n",
      "3  4.6  3.1  1.5  0.2\n",
      "4  5.0  3.6  1.4  0.2\n",
      "5  5.4  3.9  1.7  0.4\n",
      "6  4.6  3.4  1.4  0.3\n",
      "7  5.0  3.4  1.5  0.2\n",
      "8  4.4  2.9  1.4  0.2\n",
      "9  4.9  3.1  1.5  0.1\n",
      "means : \n",
      "  [5.84333333 3.05733333 3.758      1.19933333]\n",
      "\n",
      " centered iris [head(10)]:\n",
      "           0         1      2         3\n",
      "0 -0.743333  0.442667 -2.358 -0.999333\n",
      "1 -0.943333 -0.057333 -2.358 -0.999333\n",
      "2 -1.143333  0.142667 -2.458 -0.999333\n",
      "3 -1.243333  0.042667 -2.258 -0.999333\n",
      "4 -0.843333  0.542667 -2.358 -0.999333\n",
      "5 -0.443333  0.842667 -2.058 -0.799333\n",
      "6 -1.243333  0.342667 -2.358 -0.899333\n",
      "7 -0.843333  0.342667 -2.258 -0.999333\n",
      "8 -1.443333 -0.157333 -2.358 -0.999333\n",
      "9 -0.943333  0.042667 -2.258 -1.099333\n"
     ]
    }
   ],
   "source": [
    "import numpy as np\n",
    "import pandas as pd\n",
    "from sklearn import datasets\n",
    "\n",
    "iris = datasets.load_iris()\n",
    "\n",
    "\n",
    "# The dataset\n",
    "dataset = iris[\"data\"]\n",
    "print(\"iris [head(10)] :\\n\",pd.DataFrame(data=dataset).head(10))\n",
    "# To center the dataset\n",
    "m = np.mean(dataset,axis=0)\n",
    "vectors = dataset - m\n",
    "print(\"means : \\n \",m)\n",
    "# To make a data frame\n",
    "centered_df = pd.DataFrame(data=vectors)\n",
    "print(\"\\n centered iris [head(10)]:\\n\",centered_df.head(10))"
   ]
  },
  {
   "cell_type": "code",
   "execution_count": 97,
   "id": "7b5cd8cb-4b69-4abb-87a3-33d9a4b74df5",
   "metadata": {},
   "outputs": [
    {
     "name": "stdout",
     "output_type": "stream",
     "text": [
      "zero :\n",
      " [[0. 0. 0.]\n",
      " [0. 0. 0.]\n",
      " [0. 0. 0.]\n",
      " [0. 0. 0.]]\n",
      "squared Uniq :\n",
      " [[1. 0. 0.]\n",
      " [0. 1. 0.]\n",
      " [0. 0. 1.]]\n",
      "Unsquared Uniq :\n",
      " [[1. 0. 0.]\n",
      " [0. 1. 0.]\n",
      " [0. 0. 1.]\n",
      " [0. 0. 0.]]\n",
      " Matrix : \n",
      " [[ 1  2  3]\n",
      " [ 4  5  6]\n",
      " [ 7  8  9]\n",
      " [10 11 12]]\n",
      "diage Matrix : \n",
      " [[1 0 0 0]\n",
      " [0 2 0 0]\n",
      " [0 0 3 0]\n",
      " [0 0 0 4]]\n",
      "A+C :\n",
      "  [[1. 0. 0.]\n",
      " [0. 1. 0.]\n",
      " [0. 0. 1.]\n",
      " [0. 0. 0.]]\n",
      "C+D :\n",
      "  [[ 2.  2.  3.]\n",
      " [ 4.  6.  6.]\n",
      " [ 7.  8. 10.]\n",
      " [10. 11. 12.]]\n",
      "4*D :\n",
      "  [[ 4  8 12]\n",
      " [16 20 24]\n",
      " [28 32 36]\n",
      " [40 44 48]]\n",
      "-D :\n",
      "  [[ -1  -2  -3]\n",
      " [ -4  -5  -6]\n",
      " [ -7  -8  -9]\n",
      " [-10 -11 -12]]\n",
      "-2*D :\n",
      "  [[ -2  -4  -6]\n",
      " [ -8 -10 -12]\n",
      " [-14 -16 -18]\n",
      " [-20 -22 -24]]\n"
     ]
    }
   ],
   "source": [
    "import numpy as np\n",
    "\n",
    "A = np.zeros((4,3))\n",
    "print(\"zero :\\n\", A)\n",
    "B = np.eye(3)\n",
    "print(\"squared Uniq :\\n\",B)\n",
    "C = np.eye(4,3)\n",
    "print(\"Unsquared Uniq :\\n\",C)\n",
    "D = np.array([[1,2,3],[4,5,6],[7,8,9],[10,11,12]])\n",
    "print(\" Matrix : \\n\",D)\n",
    "E = np.diag([1,2,3,4])\n",
    "print(\"diage Matrix : \\n\",E)\n",
    "\n",
    "\n",
    "print(\"A+C :\\n \",A+C)\n",
    "print(\"C+D :\\n \" ,C+D)\n",
    "print(\"4*D :\\n \",4*D)\n",
    "print(\"-D :\\n \",-D)\n",
    "print(\"-2*D :\\n \",-2*D)"
   ]
  },
  {
   "cell_type": "code",
   "execution_count": 101,
   "id": "6cff00b2-8ff9-4666-bf71-9ddb96017cf0",
   "metadata": {},
   "outputs": [
    {
     "name": "stdout",
     "output_type": "stream",
     "text": [
      "32\n",
      "32\n",
      "True\n",
      " == is suitable for string and integers no for float type\n"
     ]
    }
   ],
   "source": [
    "import numpy as np\n",
    "\n",
    "u = np.array([1,2,3])\n",
    "v = np.array([4, 5, 6])\n",
    "\n",
    "u_dot_v = np.dot(u,v)\n",
    "print(u_dot_v)\n",
    "\n",
    "u_dot_v_ = u[0]*v[0] + u[1]*v[1] + u[2]*v[2]\n",
    "print(u_dot_v_)\n",
    "\n",
    "print(u_dot_v == u_dot_v_)# == is suitable for string and integers no for float type\n",
    "\n",
    "print(\" == is suitable for string and integers no for float type\")"
   ]
  },
  {
   "cell_type": "code",
   "execution_count": null,
   "id": "d144424d-e3f4-4ce4-b315-89d6fb1007a5",
   "metadata": {},
   "outputs": [],
   "source": []
  }
 ],
 "metadata": {
  "kernelspec": {
   "display_name": "Python 3 (ipykernel)",
   "language": "python",
   "name": "python3"
  },
  "language_info": {
   "codemirror_mode": {
    "name": "ipython",
    "version": 3
   },
   "file_extension": ".py",
   "mimetype": "text/x-python",
   "name": "python",
   "nbconvert_exporter": "python",
   "pygments_lexer": "ipython3",
   "version": "3.11.7"
  }
 },
 "nbformat": 4,
 "nbformat_minor": 5
}
