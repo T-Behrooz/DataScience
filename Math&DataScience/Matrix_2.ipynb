{
 "cells": [
  {
   "cell_type": "code",
   "execution_count": 1,
   "id": "36aa3892-d79e-41df-9ccd-86187b728ef0",
   "metadata": {},
   "outputs": [
    {
     "name": "stdout",
     "output_type": "stream",
     "text": [
      "[ 30  70 110]\n"
     ]
    }
   ],
   "source": [
    "import numpy as np\n",
    "\n",
    "A = np.arange(1,13).reshape(3,4)\n",
    "v = np.array([1,2,3,4])\n",
    "\n",
    "Av = np.dot(A, v)\n",
    "print(Av)"
   ]
  },
  {
   "cell_type": "code",
   "execution_count": 2,
   "id": "f2a21edb-8dcb-4732-8d70-296025c082c1",
   "metadata": {},
   "outputs": [
    {
     "name": "stdout",
     "output_type": "stream",
     "text": [
      "[[170 180]\n",
      " [426 452]\n",
      " [682 724]]\n"
     ]
    }
   ],
   "source": [
    "import numpy as np\n",
    "\n",
    "A = np.arange(1,13).reshape(3,4)\n",
    "B = np.arange(13,21).reshape(4,2)\n",
    "\n",
    "AB = np.dot(A, B)\n",
    "print(AB)"
   ]
  },
  {
   "cell_type": "code",
   "execution_count": 3,
   "id": "dc73ca84-adfb-456d-a880-8d0de6bd6233",
   "metadata": {},
   "outputs": [
    {
     "ename": "SyntaxError",
     "evalue": "invalid character '”' (U+201D) (3532136656.py, line 7)",
     "output_type": "error",
     "traceback": [
      "\u001b[1;36m  Cell \u001b[1;32mIn[3], line 7\u001b[1;36m\u001b[0m\n\u001b[1;33m    d a t a s e t = i r i s [ ” data ” ]\u001b[0m\n\u001b[1;37m                              ^\u001b[0m\n\u001b[1;31mSyntaxError\u001b[0m\u001b[1;31m:\u001b[0m invalid character '”' (U+201D)\n"
     ]
    }
   ],
   "source": [
    "impor t numpy a s np\n",
    "from s k l e a r n impor t d a t a s e t s\n",
    "\n",
    "i r i s = d a t a s e t s . l o a d i r i s ( )\n",
    "\n",
    "The d a t a s e t\n",
    "d a t a s e t = i r i s [ ” data ” ]\n",
    "\n",
    "# Mean\n",
    "m = np . mean( d a t a s e t , a x i s=0 )\n",
    "\n",
    "# C en t e r ed d a t a s e t\n",
    "v e c t o r s = d a t a s e t - m\n",
    "\n",
    "# C o v a r i a n c e\n",
    "N = l e n ( v e c t o r s )\n",
    "# B i a s ed\n",
    "Q = np . dot ( v e c t o r s .T, v e c t o r s ) /N\n",
    "Q = np . cov ( d a t a s e t , rowva r=F a l s e , ddof=0 ) # ddof = d e l t a d e g r e e s of freedom\n",
    "Q = np . cov ( d a t a s e t .T, ddof=0 )\n",
    "\n",
    "# Unbia s ed\n",
    "Q = np . dot ( v e c t o r s .T, v e c t o r s ) / (N- 1 )\n",
    "Q = np . cov ( d a t a s e t , rowva r=F a l s e )\n",
    "Q = np . cov ( d a t a s e t .T)\n",
    "\n",
    "# To t a l V a r i a n c e\n",
    "TV = np . t r a c e (Q)"
   ]
  },
  {
   "cell_type": "code",
   "execution_count": 5,
   "id": "f21ca262-6f1d-4e22-9085-3ab6a9b54c58",
   "metadata": {},
   "outputs": [
    {
     "name": "stdout",
     "output_type": "stream",
     "text": [
      "Mean: [5.84333333 3.05733333 3.758      1.19933333]\n",
      "Biased covariance matrix:\n",
      " [[ 0.68112222 -0.04215111  1.26582     0.51282889]\n",
      " [-0.04215111  0.18871289 -0.32745867 -0.12082844]\n",
      " [ 1.26582    -0.32745867  3.09550267  1.286972  ]\n",
      " [ 0.51282889 -0.12082844  1.286972    0.57713289]]\n",
      "Unbiased covariance matrix:\n",
      " [[ 0.68569351 -0.042434    1.27431544  0.51627069]\n",
      " [-0.042434    0.18997942 -0.32965638 -0.12163937]\n",
      " [ 1.27431544 -0.32965638  3.11627785  1.2956094 ]\n",
      " [ 0.51627069 -0.12163937  1.2956094   0.58100626]]\n",
      "Total variance:\n",
      " 4.572957046979867\n"
     ]
    }
   ],
   "source": [
    "import numpy as np  \n",
    "from sklearn import datasets  \n",
    "\n",
    "# Load the Iris dataset  \n",
    "iris = datasets.load_iris()  \n",
    "dataset = iris[\"data\"]  \n",
    "\n",
    "# Compute the mean  \n",
    "mean = np.mean(dataset, axis=0)  \n",
    "\n",
    "# Center the dataset  \n",
    "centered_dataset = dataset - mean  \n",
    "\n",
    "# Compute the covariance matrix (biased)  \n",
    "N = len(centered_dataset)  \n",
    "biased_cov = np.dot(centered_dataset.T, centered_dataset) / N  \n",
    "biased_cov = np.cov(dataset, rowvar=False, ddof=0)  \n",
    "biased_cov = np.cov(dataset.T, ddof=0)  \n",
    "\n",
    "# Compute the covariance matrix (unbiased)  \n",
    "unbiased_cov = np.dot(centered_dataset.T, centered_dataset) / (N - 1)  \n",
    "unbiased_cov = np.cov(dataset, rowvar=False)  \n",
    "unbiased_cov = np.cov(dataset.T)  \n",
    "\n",
    "# Compute the total variance  \n",
    "total_variance = np.trace(unbiased_cov)  \n",
    "\n",
    "print(\"Mean:\", mean)  \n",
    "print(\"Biased covariance matrix:\\n\", biased_cov)  \n",
    "print(\"Unbiased covariance matrix:\\n\", unbiased_cov)  \n",
    "print(\"Total variance:\\n\", total_variance)\n"
   ]
  },
  {
   "cell_type": "code",
   "execution_count": null,
   "id": "d6980fa1-fd11-42ba-8f89-18b5dfb230d7",
   "metadata": {},
   "outputs": [],
   "source": []
  }
 ],
 "metadata": {
  "kernelspec": {
   "display_name": "Python 3 (ipykernel)",
   "language": "python",
   "name": "python3"
  },
  "language_info": {
   "codemirror_mode": {
    "name": "ipython",
    "version": 3
   },
   "file_extension": ".py",
   "mimetype": "text/x-python",
   "name": "python",
   "nbconvert_exporter": "python",
   "pygments_lexer": "ipython3",
   "version": "3.12.4"
  }
 },
 "nbformat": 4,
 "nbformat_minor": 5
}
